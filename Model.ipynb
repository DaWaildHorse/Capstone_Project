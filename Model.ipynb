{
 "cells": [
  {
   "cell_type": "code",
   "execution_count": 3,
   "id": "eb6c6b0c",
   "metadata": {},
   "outputs": [],
   "source": [
    "import pandas as pd"
   ]
  },
  {
   "cell_type": "markdown",
   "id": "7da1f82b",
   "metadata": {},
   "source": [
    "# EDA"
   ]
  },
  {
   "cell_type": "code",
   "execution_count": 26,
   "id": "43175724",
   "metadata": {},
   "outputs": [],
   "source": [
    "GDP_df = pd.read_csv(\"data/GDP.csv\")\n",
    "mortality_df= pd.read_csv(\"data/LifeExpectancy.csv\")"
   ]
  },
  {
   "cell_type": "code",
   "execution_count": 33,
   "id": "a66cc76d",
   "metadata": {},
   "outputs": [
    {
     "name": "stdout",
     "output_type": "stream",
     "text": [
      "<class 'pandas.core.frame.DataFrame'>\n",
      "RangeIndex: 225 entries, 0 to 224\n",
      "Data columns (total 16 columns):\n",
      " #   Column         Non-Null Count  Dtype \n",
      "---  ------         --------------  ----- \n",
      " 0   Series Name    225 non-null    object\n",
      " 1   Series Code    225 non-null    object\n",
      " 2   Country Name   225 non-null    object\n",
      " 3   Country Code   225 non-null    object\n",
      " 4   1990 [YR1990]  225 non-null    object\n",
      " 5   2000 [YR2000]  225 non-null    object\n",
      " 6   2012 [YR2012]  225 non-null    object\n",
      " 7   2013 [YR2013]  225 non-null    object\n",
      " 8   2014 [YR2014]  225 non-null    object\n",
      " 9   2015 [YR2015]  225 non-null    object\n",
      " 10  2016 [YR2016]  225 non-null    object\n",
      " 11  2017 [YR2017]  225 non-null    object\n",
      " 12  2018 [YR2018]  225 non-null    object\n",
      " 13  2019 [YR2019]  225 non-null    object\n",
      " 14  2020 [YR2020]  225 non-null    object\n",
      " 15  2021 [YR2021]  225 non-null    object\n",
      "dtypes: object(16)\n",
      "memory usage: 28.3+ KB\n"
     ]
    }
   ],
   "source": [
    "GDP_df.info()"
   ]
  },
  {
   "cell_type": "code",
   "execution_count": 36,
   "id": "41424842",
   "metadata": {},
   "outputs": [],
   "source": [
    "#Drop years before 2012 until 2015\n",
    "GDP_df = GDP_df.drop([\"Series Code\" , \"Country Code\" , \"1990 [YR1990]\" , \"2000 [YR2000]\", \"2016 [YR2016]\" ,  \"2017 [YR2017]\" , \"2018 [YR2018]\", \"2019 [YR2019]\", \"2020 [YR2020]\" , \"2021 [YR2021]\"   ] , axis=1)"
   ]
  },
  {
   "cell_type": "code",
   "execution_count": 37,
   "id": "0a43237a",
   "metadata": {},
   "outputs": [
    {
     "name": "stdout",
     "output_type": "stream",
     "text": [
      "<class 'pandas.core.frame.DataFrame'>\n",
      "RangeIndex: 225 entries, 0 to 224\n",
      "Data columns (total 5 columns):\n",
      " #   Column         Non-Null Count  Dtype \n",
      "---  ------         --------------  ----- \n",
      " 0   Country Name   225 non-null    object\n",
      " 1   2012 [YR2012]  225 non-null    object\n",
      " 2   2013 [YR2013]  225 non-null    object\n",
      " 3   2014 [YR2014]  225 non-null    object\n",
      " 4   2015 [YR2015]  225 non-null    object\n",
      "dtypes: object(5)\n",
      "memory usage: 8.9+ KB\n"
     ]
    }
   ],
   "source": [
    "GDP_df.info()"
   ]
  },
  {
   "cell_type": "code",
   "execution_count": 59,
   "id": "5f04e2cb",
   "metadata": {},
   "outputs": [],
   "source": [
    "#Rename to join aftwerwards\n",
    "GDP_df = GDP_df.rename(columns={\"2012 [YR2012]\" : \"2012\", \"2013 [YR2013]\" : \"2013\" ,\"2014 [YR2014]\" : \"2014\" , \"2015 [YR2015]\" : \"2015\"})"
   ]
  },
  {
   "cell_type": "code",
   "execution_count": 60,
   "id": "0eed34ce",
   "metadata": {},
   "outputs": [
    {
     "name": "stdout",
     "output_type": "stream",
     "text": [
      "<class 'pandas.core.frame.DataFrame'>\n",
      "Index: 742 entries, 0 to 2925\n",
      "Data columns (total 25 columns):\n",
      " #   Column                           Non-Null Count  Dtype  \n",
      "---  ------                           --------------  -----  \n",
      " 0   Country                          742 non-null    object \n",
      " 1   Year                             742 non-null    int64  \n",
      " 2   Status                           742 non-null    object \n",
      " 3   Life expectancy (men)            742 non-null    int64  \n",
      " 4   Life expectancy(women)           742 non-null    int64  \n",
      " 5   Adult Mortality (men)            742 non-null    int64  \n",
      " 6   Adult Mortality (women)          742 non-null    int64  \n",
      " 7   Infant deaths                    742 non-null    int64  \n",
      " 8   Alcohol                          561 non-null    float64\n",
      " 9   Percentage expenditure           742 non-null    float64\n",
      " 10  Hepatitis B(men)                 742 non-null    int64  \n",
      " 11  Hepatitis B(women)               742 non-null    int64  \n",
      " 12  Measles                          742 non-null    int64  \n",
      " 13  BMI                              732 non-null    float64\n",
      " 14  Under-five deaths                742 non-null    int64  \n",
      " 15  Polio                            742 non-null    float64\n",
      " 16  Total expenditure                555 non-null    float64\n",
      " 17  Diphtheria                       742 non-null    float64\n",
      " 18  HIV/AIDS                         742 non-null    float64\n",
      " 19  GDP                              623 non-null    float64\n",
      " 20  Population                       570 non-null    float64\n",
      " 21  thinness  1-19 years             732 non-null    float64\n",
      " 22  thinness 5-9 years               732 non-null    float64\n",
      " 23  Income composition of resources  695 non-null    float64\n",
      " 24  Schooling                        699 non-null    float64\n",
      "dtypes: float64(13), int64(10), object(2)\n",
      "memory usage: 150.7+ KB\n"
     ]
    }
   ],
   "source": [
    "mortality_df.info()"
   ]
  },
  {
   "cell_type": "code",
   "execution_count": 62,
   "id": "db8a48bc",
   "metadata": {},
   "outputs": [],
   "source": [
    "#match years with GDP.csv\n",
    "mortality_df = mortality_df[(mortality_df[\"Year\"] >= 2012) & (mortality_df[\"Year\"]  <= 2015)]"
   ]
  }
 ],
 "metadata": {
  "kernelspec": {
   "display_name": "base",
   "language": "python",
   "name": "python3"
  },
  "language_info": {
   "codemirror_mode": {
    "name": "ipython",
    "version": 3
   },
   "file_extension": ".py",
   "mimetype": "text/x-python",
   "name": "python",
   "nbconvert_exporter": "python",
   "pygments_lexer": "ipython3",
   "version": "3.12.7"
  }
 },
 "nbformat": 4,
 "nbformat_minor": 5
}
